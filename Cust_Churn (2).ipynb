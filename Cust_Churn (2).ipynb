{
  "nbformat": 4,
  "nbformat_minor": 0,
  "metadata": {
    "colab": {
      "name": "Cust_Churn.ipynb",
      "provenance": []
    },
    "kernelspec": {
      "name": "python3",
      "display_name": "Python 3"
    }
  },
  "cells": [
    {
      "cell_type": "markdown",
      "metadata": {
        "id": "7Stl1yO5PvZG",
        "colab_type": "text"
      },
      "source": [
        "# Summary"
      ]
    },
    {
      "cell_type": "markdown",
      "metadata": {
        "id": "GDjr8P4hP5VR",
        "colab_type": "text"
      },
      "source": [
        "Customer Churn Prediction can help companies identify customers who are likely to stop using their services and give those companies an opportunity to engage with them, interact with them and if possible, give them offers and incentives associated with new products.\n",
        "\n",
        "In this project, I have analyzed and visualized the Telecom Churn Dataset and also used different models to predict if a customer is going to churn out.\n",
        "The dataset consists of some features which do not have any relation with the churning rate. By cleaning and rescaling the dataset, the Logistic Regression model has achieved an accuracy of 81%"
      ]
    },
    {
      "cell_type": "markdown",
      "metadata": {
        "id": "2NPSYzkpHy0M",
        "colab_type": "text"
      },
      "source": [
        "# Importing Kaggle Dataset into Google Colab "
      ]
    },
    {
      "cell_type": "code",
      "metadata": {
        "id": "ZbHQxIxuL-8d",
        "colab_type": "code",
        "colab": {
          "resources": {
            "http://localhost:8080/nbextensions/google.colab/files.js": {
              "data": "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",
              "ok": true,
              "headers": [
                [
                  "content-type",
                  "application/javascript"
                ]
              ],
              "status": 200,
              "status_text": ""
            }
          },
          "base_uri": "https://localhost:8080/",
          "height": 91
        },
        "outputId": "d34657af-f98d-4e7f-8221-1c6b5d8ec3c3"
      },
      "source": [
        "from google.colab import files\n",
        "files.upload() #choose files to upload in dropbox"
      ],
      "execution_count": 2,
      "outputs": [
        {
          "output_type": "display_data",
          "data": {
            "text/html": [
              "\n",
              "     <input type=\"file\" id=\"files-a0ee6e95-b035-488a-bb4e-bc23a90ed7d3\" name=\"files[]\" multiple disabled />\n",
              "     <output id=\"result-a0ee6e95-b035-488a-bb4e-bc23a90ed7d3\">\n",
              "      Upload widget is only available when the cell has been executed in the\n",
              "      current browser session. Please rerun this cell to enable.\n",
              "      </output>\n",
              "      <script src=\"/nbextensions/google.colab/files.js\"></script> "
            ],
            "text/plain": [
              "<IPython.core.display.HTML object>"
            ]
          },
          "metadata": {
            "tags": []
          }
        },
        {
          "output_type": "stream",
          "text": [
            "Saving kaggle.json to kaggle.json\n"
          ],
          "name": "stdout"
        },
        {
          "output_type": "execute_result",
          "data": {
            "text/plain": [
              "{'kaggle.json': b'{\"username\":\"kartiknair\",\"key\":\"efce4c669ce529b6cc65741d7d08d9ed\"}'}"
            ]
          },
          "metadata": {
            "tags": []
          },
          "execution_count": 2
        }
      ]
    },
    {
      "cell_type": "code",
      "metadata": {
        "id": "K-19Bk0JMn-h",
        "colab_type": "code",
        "colab": {}
      },
      "source": [
        "!mkdir -p ~/.kaggle\n",
        "!cp kaggle.json ~/.kaggle/\n",
        "#Change the permission\n",
        "!chmod 600 ~/.kaggle/kaggle.json"
      ],
      "execution_count": 0,
      "outputs": []
    },
    {
      "cell_type": "code",
      "metadata": {
        "id": "b4toHDzetBDB",
        "colab_type": "code",
        "outputId": "741111ca-6946-4e54-e039-74e69b770a4c",
        "colab": {
          "base_uri": "https://localhost:8080/",
          "height": 68
        }
      },
      "source": [
        "!kaggle datasets download -d blastchar/telco-customer-churn"
      ],
      "execution_count": 4,
      "outputs": [
        {
          "output_type": "stream",
          "text": [
            "Downloading telco-customer-churn.zip to /content\n",
            "\r  0% 0.00/172k [00:00<?, ?B/s]\n",
            "\r100% 172k/172k [00:00<00:00, 23.6MB/s]\n"
          ],
          "name": "stdout"
        }
      ]
    },
    {
      "cell_type": "code",
      "metadata": {
        "id": "B8knxttONN7R",
        "colab_type": "code",
        "colab": {}
      },
      "source": [
        "#Extracting the zip file to download the csv files\n",
        "from zipfile import ZipFile\n",
        "file_name=\"telco-customer-churn.zip\"\n",
        "with ZipFile(file_name,'r') as zip:\n",
        "  print('Extracting file...')\n",
        "  zip.extractall()\n",
        "  print('Done')"
      ],
      "execution_count": 0,
      "outputs": []
    },
    {
      "cell_type": "markdown",
      "metadata": {
        "id": "d14snsn3H_Yj",
        "colab_type": "text"
      },
      "source": [
        "# Importing necessarry libraries"
      ]
    },
    {
      "cell_type": "code",
      "metadata": {
        "id": "5hJfNX0ENc9X",
        "colab_type": "code",
        "colab": {}
      },
      "source": [
        "import numpy as np # linear algebra\n",
        "import pandas as pd # data processing\n",
        "import matplotlib.pyplot as plt\n",
        "%matplotlib inline\n",
        "import seaborn as sns\n",
        "import os"
      ],
      "execution_count": 0,
      "outputs": []
    },
    {
      "cell_type": "code",
      "metadata": {
        "id": "sea87kKmOrzt",
        "colab_type": "code",
        "colab": {
          "base_uri": "https://localhost:8080/",
          "height": 34
        },
        "outputId": "1c8005f1-1264-494f-aef4-55e809c349e2"
      },
      "source": [
        "df = pd.read_csv('/content/WA_Fn-UseC_-Telco-Customer-Churn.csv')\n",
        "df.shape"
      ],
      "execution_count": 45,
      "outputs": [
        {
          "output_type": "execute_result",
          "data": {
            "text/plain": [
              "(7043, 21)"
            ]
          },
          "metadata": {
            "tags": []
          },
          "execution_count": 45
        }
      ]
    },
    {
      "cell_type": "code",
      "metadata": {
        "id": "vhagYCLnPSR0",
        "colab_type": "code",
        "colab": {
          "base_uri": "https://localhost:8080/",
          "height": 549
        },
        "outputId": "1092ea8d-d80b-4ac0-c49e-5146477a0b96"
      },
      "source": [
        "df.head(10)"
      ],
      "execution_count": 38,
      "outputs": [
        {
          "output_type": "execute_result",
          "data": {
            "text/html": [
              "<div>\n",
              "<style scoped>\n",
              "    .dataframe tbody tr th:only-of-type {\n",
              "        vertical-align: middle;\n",
              "    }\n",
              "\n",
              "    .dataframe tbody tr th {\n",
              "        vertical-align: top;\n",
              "    }\n",
              "\n",
              "    .dataframe thead th {\n",
              "        text-align: right;\n",
              "    }\n",
              "</style>\n",
              "<table border=\"1\" class=\"dataframe\">\n",
              "  <thead>\n",
              "    <tr style=\"text-align: right;\">\n",
              "      <th></th>\n",
              "      <th>customerID</th>\n",
              "      <th>gender</th>\n",
              "      <th>SeniorCitizen</th>\n",
              "      <th>Partner</th>\n",
              "      <th>Dependents</th>\n",
              "      <th>tenure</th>\n",
              "      <th>PhoneService</th>\n",
              "      <th>MultipleLines</th>\n",
              "      <th>InternetService</th>\n",
              "      <th>OnlineSecurity</th>\n",
              "      <th>OnlineBackup</th>\n",
              "      <th>DeviceProtection</th>\n",
              "      <th>TechSupport</th>\n",
              "      <th>StreamingTV</th>\n",
              "      <th>StreamingMovies</th>\n",
              "      <th>Contract</th>\n",
              "      <th>PaperlessBilling</th>\n",
              "      <th>PaymentMethod</th>\n",
              "      <th>MonthlyCharges</th>\n",
              "      <th>TotalCharges</th>\n",
              "      <th>Churn</th>\n",
              "    </tr>\n",
              "  </thead>\n",
              "  <tbody>\n",
              "    <tr>\n",
              "      <th>0</th>\n",
              "      <td>7590-VHVEG</td>\n",
              "      <td>Female</td>\n",
              "      <td>0</td>\n",
              "      <td>Yes</td>\n",
              "      <td>No</td>\n",
              "      <td>1</td>\n",
              "      <td>No</td>\n",
              "      <td>No phone service</td>\n",
              "      <td>DSL</td>\n",
              "      <td>No</td>\n",
              "      <td>Yes</td>\n",
              "      <td>No</td>\n",
              "      <td>No</td>\n",
              "      <td>No</td>\n",
              "      <td>No</td>\n",
              "      <td>Month-to-month</td>\n",
              "      <td>Yes</td>\n",
              "      <td>Electronic check</td>\n",
              "      <td>29.85</td>\n",
              "      <td>29.85</td>\n",
              "      <td>No</td>\n",
              "    </tr>\n",
              "    <tr>\n",
              "      <th>1</th>\n",
              "      <td>5575-GNVDE</td>\n",
              "      <td>Male</td>\n",
              "      <td>0</td>\n",
              "      <td>No</td>\n",
              "      <td>No</td>\n",
              "      <td>34</td>\n",
              "      <td>Yes</td>\n",
              "      <td>No</td>\n",
              "      <td>DSL</td>\n",
              "      <td>Yes</td>\n",
              "      <td>No</td>\n",
              "      <td>Yes</td>\n",
              "      <td>No</td>\n",
              "      <td>No</td>\n",
              "      <td>No</td>\n",
              "      <td>One year</td>\n",
              "      <td>No</td>\n",
              "      <td>Mailed check</td>\n",
              "      <td>56.95</td>\n",
              "      <td>1889.5</td>\n",
              "      <td>No</td>\n",
              "    </tr>\n",
              "    <tr>\n",
              "      <th>2</th>\n",
              "      <td>3668-QPYBK</td>\n",
              "      <td>Male</td>\n",
              "      <td>0</td>\n",
              "      <td>No</td>\n",
              "      <td>No</td>\n",
              "      <td>2</td>\n",
              "      <td>Yes</td>\n",
              "      <td>No</td>\n",
              "      <td>DSL</td>\n",
              "      <td>Yes</td>\n",
              "      <td>Yes</td>\n",
              "      <td>No</td>\n",
              "      <td>No</td>\n",
              "      <td>No</td>\n",
              "      <td>No</td>\n",
              "      <td>Month-to-month</td>\n",
              "      <td>Yes</td>\n",
              "      <td>Mailed check</td>\n",
              "      <td>53.85</td>\n",
              "      <td>108.15</td>\n",
              "      <td>Yes</td>\n",
              "    </tr>\n",
              "    <tr>\n",
              "      <th>3</th>\n",
              "      <td>7795-CFOCW</td>\n",
              "      <td>Male</td>\n",
              "      <td>0</td>\n",
              "      <td>No</td>\n",
              "      <td>No</td>\n",
              "      <td>45</td>\n",
              "      <td>No</td>\n",
              "      <td>No phone service</td>\n",
              "      <td>DSL</td>\n",
              "      <td>Yes</td>\n",
              "      <td>No</td>\n",
              "      <td>Yes</td>\n",
              "      <td>Yes</td>\n",
              "      <td>No</td>\n",
              "      <td>No</td>\n",
              "      <td>One year</td>\n",
              "      <td>No</td>\n",
              "      <td>Bank transfer (automatic)</td>\n",
              "      <td>42.30</td>\n",
              "      <td>1840.75</td>\n",
              "      <td>No</td>\n",
              "    </tr>\n",
              "    <tr>\n",
              "      <th>4</th>\n",
              "      <td>9237-HQITU</td>\n",
              "      <td>Female</td>\n",
              "      <td>0</td>\n",
              "      <td>No</td>\n",
              "      <td>No</td>\n",
              "      <td>2</td>\n",
              "      <td>Yes</td>\n",
              "      <td>No</td>\n",
              "      <td>Fiber optic</td>\n",
              "      <td>No</td>\n",
              "      <td>No</td>\n",
              "      <td>No</td>\n",
              "      <td>No</td>\n",
              "      <td>No</td>\n",
              "      <td>No</td>\n",
              "      <td>Month-to-month</td>\n",
              "      <td>Yes</td>\n",
              "      <td>Electronic check</td>\n",
              "      <td>70.70</td>\n",
              "      <td>151.65</td>\n",
              "      <td>Yes</td>\n",
              "    </tr>\n",
              "    <tr>\n",
              "      <th>5</th>\n",
              "      <td>9305-CDSKC</td>\n",
              "      <td>Female</td>\n",
              "      <td>0</td>\n",
              "      <td>No</td>\n",
              "      <td>No</td>\n",
              "      <td>8</td>\n",
              "      <td>Yes</td>\n",
              "      <td>Yes</td>\n",
              "      <td>Fiber optic</td>\n",
              "      <td>No</td>\n",
              "      <td>No</td>\n",
              "      <td>Yes</td>\n",
              "      <td>No</td>\n",
              "      <td>Yes</td>\n",
              "      <td>Yes</td>\n",
              "      <td>Month-to-month</td>\n",
              "      <td>Yes</td>\n",
              "      <td>Electronic check</td>\n",
              "      <td>99.65</td>\n",
              "      <td>820.5</td>\n",
              "      <td>Yes</td>\n",
              "    </tr>\n",
              "    <tr>\n",
              "      <th>6</th>\n",
              "      <td>1452-KIOVK</td>\n",
              "      <td>Male</td>\n",
              "      <td>0</td>\n",
              "      <td>No</td>\n",
              "      <td>Yes</td>\n",
              "      <td>22</td>\n",
              "      <td>Yes</td>\n",
              "      <td>Yes</td>\n",
              "      <td>Fiber optic</td>\n",
              "      <td>No</td>\n",
              "      <td>Yes</td>\n",
              "      <td>No</td>\n",
              "      <td>No</td>\n",
              "      <td>Yes</td>\n",
              "      <td>No</td>\n",
              "      <td>Month-to-month</td>\n",
              "      <td>Yes</td>\n",
              "      <td>Credit card (automatic)</td>\n",
              "      <td>89.10</td>\n",
              "      <td>1949.4</td>\n",
              "      <td>No</td>\n",
              "    </tr>\n",
              "    <tr>\n",
              "      <th>7</th>\n",
              "      <td>6713-OKOMC</td>\n",
              "      <td>Female</td>\n",
              "      <td>0</td>\n",
              "      <td>No</td>\n",
              "      <td>No</td>\n",
              "      <td>10</td>\n",
              "      <td>No</td>\n",
              "      <td>No phone service</td>\n",
              "      <td>DSL</td>\n",
              "      <td>Yes</td>\n",
              "      <td>No</td>\n",
              "      <td>No</td>\n",
              "      <td>No</td>\n",
              "      <td>No</td>\n",
              "      <td>No</td>\n",
              "      <td>Month-to-month</td>\n",
              "      <td>No</td>\n",
              "      <td>Mailed check</td>\n",
              "      <td>29.75</td>\n",
              "      <td>301.9</td>\n",
              "      <td>No</td>\n",
              "    </tr>\n",
              "    <tr>\n",
              "      <th>8</th>\n",
              "      <td>7892-POOKP</td>\n",
              "      <td>Female</td>\n",
              "      <td>0</td>\n",
              "      <td>Yes</td>\n",
              "      <td>No</td>\n",
              "      <td>28</td>\n",
              "      <td>Yes</td>\n",
              "      <td>Yes</td>\n",
              "      <td>Fiber optic</td>\n",
              "      <td>No</td>\n",
              "      <td>No</td>\n",
              "      <td>Yes</td>\n",
              "      <td>Yes</td>\n",
              "      <td>Yes</td>\n",
              "      <td>Yes</td>\n",
              "      <td>Month-to-month</td>\n",
              "      <td>Yes</td>\n",
              "      <td>Electronic check</td>\n",
              "      <td>104.80</td>\n",
              "      <td>3046.05</td>\n",
              "      <td>Yes</td>\n",
              "    </tr>\n",
              "    <tr>\n",
              "      <th>9</th>\n",
              "      <td>6388-TABGU</td>\n",
              "      <td>Male</td>\n",
              "      <td>0</td>\n",
              "      <td>No</td>\n",
              "      <td>Yes</td>\n",
              "      <td>62</td>\n",
              "      <td>Yes</td>\n",
              "      <td>No</td>\n",
              "      <td>DSL</td>\n",
              "      <td>Yes</td>\n",
              "      <td>Yes</td>\n",
              "      <td>No</td>\n",
              "      <td>No</td>\n",
              "      <td>No</td>\n",
              "      <td>No</td>\n",
              "      <td>One year</td>\n",
              "      <td>No</td>\n",
              "      <td>Bank transfer (automatic)</td>\n",
              "      <td>56.15</td>\n",
              "      <td>3487.95</td>\n",
              "      <td>No</td>\n",
              "    </tr>\n",
              "  </tbody>\n",
              "</table>\n",
              "</div>"
            ],
            "text/plain": [
              "   customerID  gender  SeniorCitizen  ... MonthlyCharges TotalCharges  Churn\n",
              "0  7590-VHVEG  Female              0  ...          29.85        29.85     No\n",
              "1  5575-GNVDE    Male              0  ...          56.95       1889.5     No\n",
              "2  3668-QPYBK    Male              0  ...          53.85       108.15    Yes\n",
              "3  7795-CFOCW    Male              0  ...          42.30      1840.75     No\n",
              "4  9237-HQITU  Female              0  ...          70.70       151.65    Yes\n",
              "5  9305-CDSKC  Female              0  ...          99.65        820.5    Yes\n",
              "6  1452-KIOVK    Male              0  ...          89.10       1949.4     No\n",
              "7  6713-OKOMC  Female              0  ...          29.75        301.9     No\n",
              "8  7892-POOKP  Female              0  ...         104.80      3046.05    Yes\n",
              "9  6388-TABGU    Male              0  ...          56.15      3487.95     No\n",
              "\n",
              "[10 rows x 21 columns]"
            ]
          },
          "metadata": {
            "tags": []
          },
          "execution_count": 38
        }
      ]
    },
    {
      "cell_type": "code",
      "metadata": {
        "id": "wgNql1l2apCW",
        "colab_type": "code",
        "colab": {}
      },
      "source": [
        "#df.info()\n",
        "df.isna().any()\n",
        "#df.isnull().any()"
      ],
      "execution_count": 0,
      "outputs": []
    },
    {
      "cell_type": "code",
      "metadata": {
        "id": "rsTrKTs4PppV",
        "colab_type": "code",
        "colab": {
          "base_uri": "https://localhost:8080/",
          "height": 51
        },
        "outputId": "08fa5335-0aed-4a5b-a3fb-46e97492d3af"
      },
      "source": [
        "print(\"Churned\",len(df[df.Churn == 'Yes']))\n",
        "print(\"Not Churned\",len(df[df.Churn == 'No']))"
      ],
      "execution_count": 40,
      "outputs": [
        {
          "output_type": "stream",
          "text": [
            "Churned 1869\n",
            "Not Churned 5174\n"
          ],
          "name": "stdout"
        }
      ]
    },
    {
      "cell_type": "code",
      "metadata": {
        "id": "aR4UsIktPeoC",
        "colab_type": "code",
        "colab": {
          "base_uri": "https://localhost:8080/",
          "height": 333
        },
        "outputId": "edd1dcac-d8b9-42e4-9ee1-3f59c2470fe6"
      },
      "source": [
        "churn_count = df[\"Churn\"].value_counts()\n",
        "print(churn_count)\n",
        "sns.barplot(churn_count.index, churn_count.values)"
      ],
      "execution_count": 41,
      "outputs": [
        {
          "output_type": "stream",
          "text": [
            "No     5174\n",
            "Yes    1869\n",
            "Name: Churn, dtype: int64\n"
          ],
          "name": "stdout"
        },
        {
          "output_type": "execute_result",
          "data": {
            "text/plain": [
              "<matplotlib.axes._subplots.AxesSubplot at 0x7efe0e3c1eb8>"
            ]
          },
          "metadata": {
            "tags": []
          },
          "execution_count": 41
        },
        {
          "output_type": "display_data",
          "data": {
            "image/png": "[encoded data removed]",
            "text/plain": [
              "<Figure size 432x288 with 1 Axes>"
            ]
          },
          "metadata": {
            "tags": [],
            "needs_background": "light"
          }
        }
      ]
    },
    {
      "cell_type": "markdown",
      "metadata": {
        "id": "OjCFjhlytzfL",
        "colab_type": "text"
      },
      "source": [
        "**The dataset is a bit skewed as the number of examples of Churned Customers makes up only around 25% of the total customers.**"
      ]
    },
    {
      "cell_type": "markdown",
      "metadata": {
        "id": "JFR7ytjCub0s",
        "colab_type": "text"
      },
      "source": [
        "**Let's check if the values in the attributes and edit the values in columns which don't make sense. **"
      ]
    },
    {
      "cell_type": "code",
      "metadata": {
        "id": "C2LNyweAcZhQ",
        "colab_type": "code",
        "colab": {}
      },
      "source": [
        "dtenure = df[df['tenure'] == 0]\n",
        "dtenure"
      ],
      "execution_count": 0,
      "outputs": []
    },
    {
      "cell_type": "markdown",
      "metadata": {
        "id": "-CaobCQqwoKc",
        "colab_type": "text"
      },
      "source": [
        "**In the tenure column, customer's whose tenure is zero have their Total Charges as zero but their monthly charges is greater than zero.**\n",
        "\n",
        "**So we'll have to copy values from Monthly Charges into the Total Charges column for those customers whose Tenure period is zero.**"
      ]
    },
    {
      "cell_type": "code",
      "metadata": {
        "id": "ogG3YYv4chS7",
        "colab_type": "code",
        "colab": {}
      },
      "source": [
        "df.loc[df['tenure'] == 0, 'TotalCharges'] = df['MonthlyCharges']\n",
        "df[df['tenure'] == 0]"
      ],
      "execution_count": 0,
      "outputs": []
    },
    {
      "cell_type": "markdown",
      "metadata": {
        "id": "0iW-ZXqXyDnB",
        "colab_type": "text"
      },
      "source": [
        "**Let's see how many unique values are there in each column**"
      ]
    },
    {
      "cell_type": "code",
      "metadata": {
        "id": "hI9ZhNLRsxhR",
        "colab_type": "code",
        "colab": {
          "base_uri": "https://localhost:8080/",
          "height": 391
        },
        "outputId": "9430d494-22b8-4a7d-cfcc-765655fd4119"
      },
      "source": [
        "print(df.nunique())"
      ],
      "execution_count": 48,
      "outputs": [
        {
          "output_type": "stream",
          "text": [
            "customerID          7043\n",
            "gender                 2\n",
            "SeniorCitizen          2\n",
            "Partner                2\n",
            "Dependents             2\n",
            "tenure                73\n",
            "PhoneService           2\n",
            "MultipleLines          3\n",
            "InternetService        3\n",
            "OnlineSecurity         3\n",
            "OnlineBackup           3\n",
            "DeviceProtection       3\n",
            "TechSupport            3\n",
            "StreamingTV            3\n",
            "StreamingMovies        3\n",
            "Contract               3\n",
            "PaperlessBilling       2\n",
            "PaymentMethod          4\n",
            "MonthlyCharges      1585\n",
            "TotalCharges        6541\n",
            "Churn                  2\n",
            "dtype: int64\n"
          ],
          "name": "stdout"
        }
      ]
    },
    {
      "cell_type": "markdown",
      "metadata": {
        "id": "kqf2oJqntY6o",
        "colab_type": "text"
      },
      "source": [
        "**Some of these columns like Multiple Lines, Internet Services, Online Security, Online Backup, Device Protection, etc. have three options whereas they should be having only two options (Yes or No). Let us find out what the third option is.**"
      ]
    },
    {
      "cell_type": "code",
      "metadata": {
        "id": "YPBxtV0ty6Ke",
        "colab_type": "code",
        "colab": {
          "base_uri": "https://localhost:8080/",
          "height": 34
        },
        "outputId": "a8e81812-8e21-4941-f4d3-16044e33b85e"
      },
      "source": [
        "df.MultipleLines.unique()"
      ],
      "execution_count": 54,
      "outputs": [
        {
          "output_type": "execute_result",
          "data": {
            "text/plain": [
              "array(['No phone service', 'No', 'Yes'], dtype=object)"
            ]
          },
          "metadata": {
            "tags": []
          },
          "execution_count": 54
        }
      ]
    },
    {
      "cell_type": "markdown",
      "metadata": {
        "id": "v9IJ8DXN1CoX",
        "colab_type": "text"
      },
      "source": [
        "**We'll replace \"No Phone Service\" with \"No\" as they mean the same thing**"
      ]
    },
    {
      "cell_type": "code",
      "metadata": {
        "id": "AYA2-0M2pf9Z",
        "colab_type": "code",
        "colab": {}
      },
      "source": [
        "df['MultipleLines'] = df['MultipleLines'].replace({'No phone service' : 'No'})"
      ],
      "execution_count": 0,
      "outputs": []
    },
    {
      "cell_type": "code",
      "metadata": {
        "id": "f56NOuaoJmUE",
        "colab_type": "code",
        "colab": {}
      },
      "source": [
        "df['SeniorCitizen'] = df['SeniorCitizen'].replace({0:'No',1:'Yes'})"
      ],
      "execution_count": 0,
      "outputs": []
    },
    {
      "cell_type": "code",
      "metadata": {
        "id": "T9GFQJN-0esu",
        "colab_type": "code",
        "colab": {
          "base_uri": "https://localhost:8080/",
          "height": 34
        },
        "outputId": "a7f87116-ef94-411c-d8dd-02d8ed22d6ec"
      },
      "source": [
        "df.InternetService.unique()"
      ],
      "execution_count": 55,
      "outputs": [
        {
          "output_type": "execute_result",
          "data": {
            "text/plain": [
              "array(['DSL', 'Fiber optic', 'No'], dtype=object)"
            ]
          },
          "metadata": {
            "tags": []
          },
          "execution_count": 55
        }
      ]
    },
    {
      "cell_type": "markdown",
      "metadata": {
        "id": "4zr0k1HH1WzZ",
        "colab_type": "text"
      },
      "source": [
        "**This column looks fine**"
      ]
    },
    {
      "cell_type": "code",
      "metadata": {
        "id": "KGrqrUxm0_Ou",
        "colab_type": "code",
        "colab": {
          "base_uri": "https://localhost:8080/",
          "height": 34
        },
        "outputId": "7f46133f-9eb9-4f6a-808c-5e4cdbca47e0"
      },
      "source": [
        "column_values = df[[\"OnlineSecurity\", \"OnlineBackup\", \"DeviceProtection\",\n",
        "                    \"TechSupport\",\"StreamingTV\",\"StreamingMovies\"]].values\n",
        "unique_values = np. unique(column_values)\n",
        "print(unique_values)"
      ],
      "execution_count": 97,
      "outputs": [
        {
          "output_type": "stream",
          "text": [
            "['No' 'No internet service' 'Yes']\n"
          ],
          "name": "stdout"
        }
      ]
    },
    {
      "cell_type": "markdown",
      "metadata": {
        "id": "BDJyyRqu1l83",
        "colab_type": "text"
      },
      "source": [
        "**For all these columns we'll replace \"No Internet Service\" with \"No\" as it means the same thing.**"
      ]
    },
    {
      "cell_type": "code",
      "metadata": {
        "id": "_0feZEnNeRYP",
        "colab_type": "code",
        "colab": {}
      },
      "source": [
        "replace_columns = [ 'OnlineSecurity', 'OnlineBackup', 'DeviceProtection',\n",
        "                   'TechSupport','StreamingTV', 'StreamingMovies']\n",
        "for i in replace_columns : \n",
        "    df[i]  = df[i].replace({'No internet service' : 'No'})\n"
      ],
      "execution_count": 0,
      "outputs": []
    },
    {
      "cell_type": "markdown",
      "metadata": {
        "id": "7xDVi4uB2OJ2",
        "colab_type": "text"
      },
      "source": [
        "# Relation of Churning with Categorical features"
      ]
    },
    {
      "cell_type": "markdown",
      "metadata": {
        "id": "U9s-cqn0EFXv",
        "colab_type": "text"
      },
      "source": [
        "**I'll plot some graphs for the categorical features to see how the churning rate is affected by each feature.**"
      ]
    },
    {
      "cell_type": "code",
      "metadata": {
        "id": "NQJYEUUx48T2",
        "colab_type": "code",
        "colab": {
          "base_uri": "https://localhost:8080/",
          "height": 119
        },
        "outputId": "b9ee4f1c-1996-45a6-a9b5-163ed0ca2144"
      },
      "source": [
        "df.columns"
      ],
      "execution_count": 59,
      "outputs": [
        {
          "output_type": "execute_result",
          "data": {
            "text/plain": [
              "Index(['customerID', 'gender', 'SeniorCitizen', 'Partner', 'Dependents',\n",
              "       'tenure', 'PhoneService', 'MultipleLines', 'InternetService',\n",
              "       'OnlineSecurity', 'OnlineBackup', 'DeviceProtection', 'TechSupport',\n",
              "       'StreamingTV', 'StreamingMovies', 'Contract', 'PaperlessBilling',\n",
              "       'PaymentMethod', 'MonthlyCharges', 'TotalCharges', 'Churn'],\n",
              "      dtype='object')"
            ]
          },
          "metadata": {
            "tags": []
          },
          "execution_count": 59
        }
      ]
    },
    {
      "cell_type": "code",
      "metadata": {
        "id": "cjWJUrw43Stx",
        "colab_type": "code",
        "colab": {
          "base_uri": "https://localhost:8080/",
          "height": 394
        },
        "outputId": "dfe70493-ecbd-4cad-cfc3-29c5b4fd93df"
      },
      "source": [
        "sns.set(style=\"dark\")\n",
        "fig, ((ax1, ax2), (ax3, ax4)) = plt.subplots(2,2,figsize=(12,6))\n",
        "sns.countplot(x=\"gender\", hue=\"Churn\", data=df, ax=ax1)\n",
        "sns.countplot(x=\"SeniorCitizen\", hue=\"Churn\", data=df, ax=ax2)\n",
        "sns.countplot(x=\"Partner\", hue=\"Churn\", data=df, ax=ax3, order=['No','Yes'])\n",
        "sns.countplot(x=\"Dependents\", hue=\"Churn\", data=df, ax=ax4)\n",
        "plt.subplots_adjust(hspace = 0.5)\n",
        "plt.show()"
      ],
      "execution_count": 108,
      "outputs": [
        {
          "output_type": "display_data",
          "data": {
            "image/png": "[encoded data removed]",
            "text/plain": [
              "<Figure size 864x432 with 4 Axes>"
            ]
          },
          "metadata": {
            "tags": []
          }
        }
      ]
    },
    {
      "cell_type": "markdown",
      "metadata": {
        "id": "y4-g4DZCEg-q",
        "colab_type": "text"
      },
      "source": [
        "*   **The churning rate seems to be unaffected by the gender of the customers.** \n",
        "\n",
        "*   **Senior Citizens tend to churn less whereas customers with no partner or dependents tend to churn more.**"
      ]
    },
    {
      "cell_type": "code",
      "metadata": {
        "id": "D-ByV_9s46Sv",
        "colab_type": "code",
        "colab": {
          "base_uri": "https://localhost:8080/",
          "height": 302
        },
        "outputId": "9d9c96c1-fad9-4d39-a8b3-9b0bf29b274d"
      },
      "source": [
        "sns.boxplot(x=\"Churn\", y=\"tenure\", data=df)"
      ],
      "execution_count": 71,
      "outputs": [
        {
          "output_type": "execute_result",
          "data": {
            "text/plain": [
              "<matplotlib.axes._subplots.AxesSubplot at 0x7efe0e278630>"
            ]
          },
          "metadata": {
            "tags": []
          },
          "execution_count": 71
        },
        {
          "output_type": "display_data",
          "data": {
            "image/png": "[encoded data removed]",
            "text/plain": [
              "<Figure size 432x288 with 1 Axes>"
            ]
          },
          "metadata": {
            "tags": []
          }
        }
      ]
    },
    {
      "cell_type": "markdown",
      "metadata": {
        "id": "nNwI9xKKZoZC",
        "colab_type": "text"
      },
      "source": [
        "* **Around 75% of customers that churned out had a tenure of less than 30 months.**\n",
        "* **The loyal customers who did not churn out had around 50% of them with tenure greater than 40 months**"
      ]
    },
    {
      "cell_type": "code",
      "metadata": {
        "id": "bihAqs0O5uaS",
        "colab_type": "code",
        "colab": {
          "base_uri": "https://localhost:8080/",
          "height": 394
        },
        "outputId": "e6d86c8d-44c9-44ed-db13-82dafd64a0bd"
      },
      "source": [
        "fig, ax = plt.subplots(1,3,figsize=(12,6))\n",
        "sns.countplot(x=\"PhoneService\", hue=\"Churn\", data=df, ax=ax[0])\n",
        "sns.countplot(x=\"MultipleLines\", hue=\"Churn\", data=df, ax=ax[1])\n",
        "sns.countplot(x=\"InternetService\", hue=\"Churn\", data=df, ax=ax[2])\n",
        "#plt.subplots_adjust(hspace = 0.5)\n",
        "plt.show()"
      ],
      "execution_count": 101,
      "outputs": [
        {
          "output_type": "display_data",
          "data": {
            "image/png": "[encoded data removed]",
            "text/plain": [
              "<Figure size 864x432 with 3 Axes>"
            ]
          },
          "metadata": {
            "tags": []
          }
        }
      ]
    },
    {
      "cell_type": "markdown",
      "metadata": {
        "id": "DpHnLf9RHn3Z",
        "colab_type": "text"
      },
      "source": [
        "* **Customers with Inernet Service, especially those with Fibre Optic Cable have a higher probabilty of churning out than customers with no Internet Service.**\n",
        "* **Having \"Multiple Lines\" does not have any effect on the churning rate.** \n",
        "* **The ratio of Churn to No Churn seems to be higher for customers with Phone Service.**"
      ]
    },
    {
      "cell_type": "code",
      "metadata": {
        "id": "7Rt2uiCw6GJF",
        "colab_type": "code",
        "colab": {
          "base_uri": "https://localhost:8080/",
          "height": 502
        },
        "outputId": "e915a007-b45c-45af-9fa7-65ac885758dc"
      },
      "source": [
        "fig, ((ax1, ax2), (ax3, ax4)) = plt.subplots(2,2,figsize=(12,8))\n",
        "sns.countplot(x=\"OnlineSecurity\", hue=\"Churn\", data=df, ax=ax1)\n",
        "sns.countplot(x=\"OnlineBackup\", hue=\"Churn\", data=df, order=['No','Yes'], ax=ax2)\n",
        "sns.countplot(x=\"DeviceProtection\", hue=\"Churn\", data=df, ax=ax3)\n",
        "sns.countplot(x=\"TechSupport\", hue=\"Churn\", data=df, ax=ax4)\n",
        "plt.subplots_adjust(hspace = 0.5)\n",
        "plt.show()"
      ],
      "execution_count": 103,
      "outputs": [
        {
          "output_type": "display_data",
          "data": {
            "image/png": "[encoded data removed]",
            "text/plain": [
              "<Figure size 864x576 with 4 Axes>"
            ]
          },
          "metadata": {
            "tags": []
          }
        }
      ]
    },
    {
      "cell_type": "markdown",
      "metadata": {
        "id": "SaDRiKZ2F67B",
        "colab_type": "text"
      },
      "source": [
        "* **Customers with no Online Security and Tech Support tend to churn out more.**\n",
        "* **The ratio of Churn to No Churn for Online Backup and Device Protection seem to be proportionate.**"
      ]
    },
    {
      "cell_type": "code",
      "metadata": {
        "id": "aYznJsg66IbV",
        "colab_type": "code",
        "colab": {
          "base_uri": "https://localhost:8080/",
          "height": 502
        },
        "outputId": "173db0a8-ac8a-4dfe-eb30-2f1ccc34bd2b"
      },
      "source": [
        "fig, ((ax1, ax2), (ax3, ax4)) = plt.subplots(2,2,figsize=(12,8))\n",
        "sns.countplot(x=\"StreamingTV\", hue=\"Churn\", data=df, ax=ax1)\n",
        "sns.countplot(x=\"StreamingMovies\", hue=\"Churn\", data=df, ax=ax2)\n",
        "sns.countplot(x=\"Contract\", hue=\"Churn\", data=df, ax=ax3)\n",
        "sns.countplot(x=\"PaperlessBilling\", hue=\"Churn\", data=df, ax=ax4)\n",
        "plt.subplots_adjust(hspace = 0.5)\n",
        "plt.show()"
      ],
      "execution_count": 109,
      "outputs": [
        {
          "output_type": "display_data",
          "data": {
            "image/png": "[encoded data removed]",
            "text/plain": [
              "<Figure size 864x576 with 4 Axes>"
            ]
          },
          "metadata": {
            "tags": []
          }
        }
      ]
    },
    {
      "cell_type": "markdown",
      "metadata": {
        "id": "-dXghxPrFDjb",
        "colab_type": "text"
      },
      "source": [
        "* **The ratio of churn to no churn is higher in customers with \"StreamingTV\" and \"StreamingMovies\" than those without them.**\n",
        "* **Month-to-month contract customers have a high churning rate.**\n",
        "* **Paperless Billing method tends to increase the possibility of churning.** "
      ]
    },
    {
      "cell_type": "code",
      "metadata": {
        "id": "2o3zj7Tu4f10",
        "colab_type": "code",
        "colab": {
          "base_uri": "https://localhost:8080/",
          "height": 383
        },
        "outputId": "1f3587b5-7a65-46d7-c4a4-dac1a908f839"
      },
      "source": [
        "fig, ax =plt.subplots(figsize=(10,4))\n",
        "pay_catg=df['PaymentMethod'].unique()\n",
        "ax.set_xticklabels(pay_catg, rotation=45)\n",
        "sns.countplot(x=\"PaymentMethod\", hue=\"Churn\", data=df, ax=ax)\n",
        "plt.show()"
      ],
      "execution_count": 92,
      "outputs": [
        {
          "output_type": "display_data",
          "data": {
            "image/png": "[encoded data removed]",
            "text/plain": [
              "<Figure size 720x288 with 1 Axes>"
            ]
          },
          "metadata": {
            "tags": []
          }
        }
      ]
    },
    {
      "cell_type": "markdown",
      "metadata": {
        "id": "eZOB2z2UYks9",
        "colab_type": "text"
      },
      "source": [
        "* **Customers with Electronic Check paymnent method have a higher tendency to churn out. This feature is similar to the \"Paperless Billing\" feature above.**"
      ]
    },
    {
      "cell_type": "markdown",
      "metadata": {
        "id": "Yd1W6hgYbxgL",
        "colab_type": "text"
      },
      "source": [
        "# Relation of Churning with Numerical Features"
      ]
    },
    {
      "cell_type": "code",
      "metadata": {
        "id": "_lAXvAKaBbsY",
        "colab_type": "code",
        "colab": {
          "base_uri": "https://localhost:8080/",
          "height": 394
        },
        "outputId": "f1f3c3f3-bb45-498b-96ff-49d468edde3e"
      },
      "source": [
        "#Converted the Total Charges entries into numeric as some values are non-numeric\n",
        "df['TotalCharges'] = pd.to_numeric(df['TotalCharges'], errors='coerce')\n",
        "df = df[df['TotalCharges'].notnull()]\n",
        "fig, ax = plt.subplots(1,2,figsize=(12,6))\n",
        "sns.boxplot(x=\"Churn\", y=\"MonthlyCharges\", data=df, ax=ax[0])\n",
        "sns.boxplot(x=\"Churn\", y=\"TotalCharges\", data=df, ax=ax[1])\n",
        "plt.show()"
      ],
      "execution_count": 96,
      "outputs": [
        {
          "output_type": "display_data",
          "data": {
            "image/png": "[encoded data removed]",
            "text/plain": [
              "<Figure size 864x432 with 2 Axes>"
            ]
          },
          "metadata": {
            "tags": []
          }
        }
      ]
    },
    {
      "cell_type": "markdown",
      "metadata": {
        "id": "eSUhdK5LcSf8",
        "colab_type": "text"
      },
      "source": [
        "**We will also check the correlation between those numeric featues**"
      ]
    },
    {
      "cell_type": "code",
      "metadata": {
        "id": "B0QD7aKTb-rq",
        "colab_type": "code",
        "colab": {
          "base_uri": "https://localhost:8080/",
          "height": 142
        },
        "outputId": "7a6c0b75-8027-4464-83e5-5954e32bb422"
      },
      "source": [
        "numeric_df = df[['tenure', 'MonthlyCharges', 'TotalCharges']]\n",
        "numeric_df.corr()"
      ],
      "execution_count": 111,
      "outputs": [
        {
          "output_type": "execute_result",
          "data": {
            "text/html": [
              "<div>\n",
              "<style scoped>\n",
              "    .dataframe tbody tr th:only-of-type {\n",
              "        vertical-align: middle;\n",
              "    }\n",
              "\n",
              "    .dataframe tbody tr th {\n",
              "        vertical-align: top;\n",
              "    }\n",
              "\n",
              "    .dataframe thead th {\n",
              "        text-align: right;\n",
              "    }\n",
              "</style>\n",
              "<table border=\"1\" class=\"dataframe\">\n",
              "  <thead>\n",
              "    <tr style=\"text-align: right;\">\n",
              "      <th></th>\n",
              "      <th>tenure</th>\n",
              "      <th>MonthlyCharges</th>\n",
              "      <th>TotalCharges</th>\n",
              "    </tr>\n",
              "  </thead>\n",
              "  <tbody>\n",
              "    <tr>\n",
              "      <th>tenure</th>\n",
              "      <td>1.000000</td>\n",
              "      <td>0.247900</td>\n",
              "      <td>0.826164</td>\n",
              "    </tr>\n",
              "    <tr>\n",
              "      <th>MonthlyCharges</th>\n",
              "      <td>0.247900</td>\n",
              "      <td>1.000000</td>\n",
              "      <td>0.651182</td>\n",
              "    </tr>\n",
              "    <tr>\n",
              "      <th>TotalCharges</th>\n",
              "      <td>0.826164</td>\n",
              "      <td>0.651182</td>\n",
              "      <td>1.000000</td>\n",
              "    </tr>\n",
              "  </tbody>\n",
              "</table>\n",
              "</div>"
            ],
            "text/plain": [
              "                  tenure  MonthlyCharges  TotalCharges\n",
              "tenure          1.000000        0.247900      0.826164\n",
              "MonthlyCharges  0.247900        1.000000      0.651182\n",
              "TotalCharges    0.826164        0.651182      1.000000"
            ]
          },
          "metadata": {
            "tags": []
          },
          "execution_count": 111
        }
      ]
    },
    {
      "cell_type": "markdown",
      "metadata": {
        "id": "kvEBjAEZcp2N",
        "colab_type": "text"
      },
      "source": [
        "* **We observe that there is 82.6% correlation between Tenure and Total Charges which is pretty high.**\n",
        "* **There is little correlation between Tenure and Monthly Charges.**"
      ]
    },
    {
      "cell_type": "code",
      "metadata": {
        "id": "l2IMcmiqfVSX",
        "colab_type": "code",
        "colab": {}
      },
      "source": [
        "sns.pairplot(df, x_vars=[\"TotalCharges\", \"MonthlyCharges\"], y_vars='tenure', height=7, aspect=1, kind=\"reg\")"
      ],
      "execution_count": 0,
      "outputs": []
    },
    {
      "cell_type": "markdown",
      "metadata": {
        "id": "7nxf9ETFgu87",
        "colab_type": "text"
      },
      "source": [
        "# Data Preprocessing"
      ]
    },
    {
      "cell_type": "markdown",
      "metadata": {
        "id": "682dWcnag1KO",
        "colab_type": "text"
      },
      "source": [
        "**From this dataset, we can remove columns which have less or no effect on the predictions**"
      ]
    },
    {
      "cell_type": "code",
      "metadata": {
        "id": "nL0qIT48lavd",
        "colab_type": "code",
        "colab": {
          "base_uri": "https://localhost:8080/",
          "height": 323
        },
        "outputId": "5f7e8f39-0888-48c2-92b1-2f0546c9791e"
      },
      "source": [
        "df.nunique()"
      ],
      "execution_count": 118,
      "outputs": [
        {
          "output_type": "execute_result",
          "data": {
            "text/plain": [
              "SeniorCitizen          2\n",
              "Partner                2\n",
              "Dependents             2\n",
              "tenure                73\n",
              "PhoneService           2\n",
              "MultipleLines          2\n",
              "InternetService        3\n",
              "OnlineSecurity         2\n",
              "TechSupport            2\n",
              "StreamingTV            2\n",
              "StreamingMovies        2\n",
              "Contract               3\n",
              "PaperlessBilling       2\n",
              "PaymentMethod          4\n",
              "MonthlyCharges      1585\n",
              "TotalCharges        6534\n",
              "Churn                  2\n",
              "dtype: int64"
            ]
          },
          "metadata": {
            "tags": []
          },
          "execution_count": 118
        }
      ]
    },
    {
      "cell_type": "markdown",
      "metadata": {
        "id": "1MGD3TwwI9nb",
        "colab_type": "text"
      },
      "source": [
        "We will modify the dataset as follows"
      ]
    },
    {
      "cell_type": "code",
      "metadata": {
        "id": "nOcrPXIRNXVT",
        "colab_type": "code",
        "colab": {}
      },
      "source": [
        "# X= df.drop(['customerID','gender','OnlineBackup','DeviceProtection'],axis=1)\n",
        "# y = pd.Series([0]*len(X))\n",
        "#df.drop(['customerID','gender','OnlineBackup','DeviceProtection'],axis=1, inplace=True)\n",
        "\n",
        "# Creating dummy columns for categorical variables\n",
        "dft = pd.get_dummies(df, columns=['InternetService','Contract','PaymentMethod'])\n",
        "\n",
        "# Creating binary columns for boolean values \n",
        "dft.Partner.replace(['Yes', 'No'], [1, 0], inplace=True)\n",
        "dft.Dependents.replace(['Yes', 'No'], [1, 0], inplace=True)\n",
        "dft.SeniorCitizen.replace(['Yes', 'No'], [1, 0], inplace=True)\n",
        "dft.PhoneService.replace(['Yes', 'No'], [1, 0], inplace=True)\n",
        "dft.MultipleLines.replace(['Yes', 'No'], [1, 0], inplace=True)\n",
        "dft.OnlineSecurity.replace(['Yes', 'No'], [1, 0], inplace=True)\n",
        "dft.TechSupport.replace(['Yes', 'No'], [1, 0], inplace=True)\n",
        "dft.StreamingTV.replace(['Yes', 'No'], [1, 0], inplace=True)\n",
        "dft.StreamingMovies.replace(['Yes', 'No'], [1, 0], inplace=True)\n",
        "dft.PaperlessBilling.replace(['Yes', 'No'], [1, 0], inplace=True)\n",
        "\n",
        "#Create binary column for target variable\n",
        "dft.Churn.replace(['Yes', 'No'], [1, 0], inplace=True)\n",
        "\n",
        "pd.set_option('max_columns', 100)"
      ],
      "execution_count": 0,
      "outputs": []
    },
    {
      "cell_type": "code",
      "metadata": {
        "id": "kGsByKixp9M0",
        "colab_type": "code",
        "colab": {
          "base_uri": "https://localhost:8080/",
          "height": 544
        },
        "outputId": "91204abe-3460-4b44-94a1-895772f8e0ec"
      },
      "source": [
        "dft.info()"
      ],
      "execution_count": 203,
      "outputs": [
        {
          "output_type": "stream",
          "text": [
            "<class 'pandas.core.frame.DataFrame'>\n",
            "Int64Index: 7043 entries, 0 to 7042\n",
            "Data columns (total 24 columns):\n",
            " #   Column                                   Non-Null Count  Dtype  \n",
            "---  ------                                   --------------  -----  \n",
            " 0   SeniorCitizen                            7043 non-null   int64  \n",
            " 1   Partner                                  7043 non-null   int64  \n",
            " 2   Dependents                               7043 non-null   int64  \n",
            " 3   tenure                                   7043 non-null   int64  \n",
            " 4   PhoneService                             7043 non-null   int64  \n",
            " 5   MultipleLines                            7043 non-null   int64  \n",
            " 6   OnlineSecurity                           7043 non-null   int64  \n",
            " 7   TechSupport                              7043 non-null   int64  \n",
            " 8   StreamingTV                              7043 non-null   int64  \n",
            " 9   StreamingMovies                          7043 non-null   int64  \n",
            " 10  PaperlessBilling                         7043 non-null   int64  \n",
            " 11  MonthlyCharges                           7043 non-null   float64\n",
            " 12  TotalCharges                             7043 non-null   float64\n",
            " 13  Churn                                    7043 non-null   int64  \n",
            " 14  InternetService_DSL                      7043 non-null   uint8  \n",
            " 15  InternetService_Fiber optic              7043 non-null   uint8  \n",
            " 16  InternetService_No                       7043 non-null   uint8  \n",
            " 17  Contract_Month-to-month                  7043 non-null   uint8  \n",
            " 18  Contract_One year                        7043 non-null   uint8  \n",
            " 19  Contract_Two year                        7043 non-null   uint8  \n",
            " 20  PaymentMethod_Bank transfer (automatic)  7043 non-null   uint8  \n",
            " 21  PaymentMethod_Credit card (automatic)    7043 non-null   uint8  \n",
            " 22  PaymentMethod_Electronic check           7043 non-null   uint8  \n",
            " 23  PaymentMethod_Mailed check               7043 non-null   uint8  \n",
            "dtypes: float64(2), int64(12), uint8(10)\n",
            "memory usage: 1.2 MB\n"
          ],
          "name": "stdout"
        }
      ]
    },
    {
      "cell_type": "code",
      "metadata": {
        "id": "oPdyPODiR4en",
        "colab_type": "code",
        "colab": {}
      },
      "source": [
        "from sklearn.model_selection import train_test_split\n",
        "from sklearn.preprocessing import StandardScaler\n",
        "\n",
        "X= dft.drop(['Churn'],axis=1)\n",
        "y= dft[\"Churn\"]\n"
      ],
      "execution_count": 0,
      "outputs": []
    },
    {
      "cell_type": "markdown",
      "metadata": {
        "id": "YsnCfbsCJZeh",
        "colab_type": "text"
      },
      "source": [
        "**Scaling Numeric Columns into range (0,1)**"
      ]
    },
    {
      "cell_type": "code",
      "metadata": {
        "id": "2eHIYQIsxPg0",
        "colab_type": "code",
        "colab": {}
      },
      "source": [
        "from sklearn.preprocessing import MinMaxScaler\n",
        "features = X.columns.values\n",
        "scaler = MinMaxScaler(feature_range = (0,1))\n",
        "scaler.fit(X)\n",
        "X = pd.DataFrame(scaler.transform(X))\n",
        "X.columns = features"
      ],
      "execution_count": 0,
      "outputs": []
    },
    {
      "cell_type": "code",
      "metadata": {
        "id": "E3zHYe_VxNgE",
        "colab_type": "code",
        "colab": {}
      },
      "source": [
        "X_train, X_test, y_train, y_test = train_test_split(X,y,test_size=0.3)"
      ],
      "execution_count": 0,
      "outputs": []
    },
    {
      "cell_type": "code",
      "metadata": {
        "id": "jfntjxPRsc_9",
        "colab_type": "code",
        "colab": {}
      },
      "source": [
        "X_train"
      ],
      "execution_count": 0,
      "outputs": []
    },
    {
      "cell_type": "markdown",
      "metadata": {
        "id": "Zp900aeEDftd",
        "colab_type": "text"
      },
      "source": [
        "# Predicting Churn using Classification Models"
      ]
    },
    {
      "cell_type": "code",
      "metadata": {
        "id": "by-ZaBGovSbV",
        "colab_type": "code",
        "colab": {}
      },
      "source": [
        "from sklearn.linear_model import LogisticRegression\n",
        "from sklearn.tree import DecisionTreeClassifier\n",
        "from sklearn import tree\n",
        "from sklearn.neighbors import KNeighborsClassifier\n",
        "from sklearn.svm import SVC\n",
        "from sklearn.metrics import accuracy_score\n",
        "from sklearn.metrics import confusion_matrix\n",
        "from sklearn.metrics import classification_report\n",
        "from sklearn.metrics import roc_auc_score,roc_curve,scorer\n",
        "from sklearn.metrics import f1_score\n",
        "from sklearn.metrics import precision_score,recall_score\n",
        "\n",
        "def predict_churn(model, X_train, X_test, y_train, y_test):\n",
        "    model.fit(X_train, y_train)\n",
        "    y_pred = model.predict(X_test)\n",
        "    probabilities = model.predict_proba(X_test)\n",
        "    acc_score = accuracy_score(y_test, y_pred) \n",
        "    print(\"Accuracy Score: \", acc_score)\n",
        "    print(classification_report(y_test, y_pred))\n",
        "    fpr,tpr,thresholds = roc_curve(y_test,probabilities[:,1])\n",
        "    plt.plot(fpr,tpr,label = \"AUC = \" + str(np.around(roc_auc_score(y_test,y_pred),3)))\n",
        "    plt.plot([0,1],[0,1],linestyle = \"dashed\",\n",
        "             color = \"orangered\",linewidth = 1.5)\n",
        "    plt.legend(loc = \"lower right\",\n",
        "               prop = {\"size\" : 12})\n",
        "    plt.title('ROC Curve')"
      ],
      "execution_count": 0,
      "outputs": []
    },
    {
      "cell_type": "markdown",
      "metadata": {
        "id": "jiMl4s4QEVoZ",
        "colab_type": "text"
      },
      "source": [
        "## Using Logistic Regression"
      ]
    },
    {
      "cell_type": "code",
      "metadata": {
        "id": "-f9jbd4L2hp-",
        "colab_type": "code",
        "colab": {
          "base_uri": "https://localhost:8080/",
          "height": 454
        },
        "outputId": "72c7a90c-ff1d-44b3-9dc8-05a6449056a0"
      },
      "source": [
        "model = LogisticRegression(solver='liblinear')\n",
        "predict_churn(model, X_train, X_test, y_train, y_test)"
      ],
      "execution_count": 215,
      "outputs": [
        {
          "output_type": "stream",
          "text": [
            "Accuracy Score:  0.812588736393753\n",
            "              precision    recall  f1-score   support\n",
            "\n",
            "           0       0.85      0.90      0.88      1562\n",
            "           1       0.67      0.56      0.61       551\n",
            "\n",
            "    accuracy                           0.81      2113\n",
            "   macro avg       0.76      0.73      0.74      2113\n",
            "weighted avg       0.80      0.81      0.81      2113\n",
            "\n"
          ],
          "name": "stdout"
        },
        {
          "output_type": "display_data",
          "data": {
            "image/png": "[encoded data removed]",
            "text/plain": [
              "<Figure size 432x288 with 1 Axes>"
            ]
          },
          "metadata": {
            "tags": []
          }
        }
      ]
    },
    {
      "cell_type": "markdown",
      "metadata": {
        "id": "4RH9L55JEcwt",
        "colab_type": "text"
      },
      "source": [
        "## Using Decision Tree Classifier"
      ]
    },
    {
      "cell_type": "code",
      "metadata": {
        "id": "FjDhYFk22rSE",
        "colab_type": "code",
        "colab": {
          "base_uri": "https://localhost:8080/",
          "height": 454
        },
        "outputId": "510a0fa0-316f-4737-d3cb-c6ba6fd8de6f"
      },
      "source": [
        "model = DecisionTreeClassifier()\n",
        "run_classification(model, X_train, X_test, y_train, y_test)\n"
      ],
      "execution_count": 216,
      "outputs": [
        {
          "output_type": "stream",
          "text": [
            "Accuracy Score:  0.7321344060577378\n",
            "              precision    recall  f1-score   support\n",
            "\n",
            "           0       0.82      0.81      0.82      1562\n",
            "           1       0.49      0.50      0.49       551\n",
            "\n",
            "    accuracy                           0.73      2113\n",
            "   macro avg       0.65      0.66      0.66      2113\n",
            "weighted avg       0.73      0.73      0.73      2113\n",
            "\n"
          ],
          "name": "stdout"
        },
        {
          "output_type": "display_data",
          "data": {
            "image/png": "[encoded data removed]",
            "text/plain": [
              "<Figure size 432x288 with 1 Axes>"
            ]
          },
          "metadata": {
            "tags": []
          }
        }
      ]
    },
    {
      "cell_type": "markdown",
      "metadata": {
        "id": "DFo4lJEXEjO9",
        "colab_type": "text"
      },
      "source": [
        "Using K-Nearest Neighbours"
      ]
    },
    {
      "cell_type": "code",
      "metadata": {
        "id": "sTfBlKQO21o8",
        "colab_type": "code",
        "colab": {
          "base_uri": "https://localhost:8080/",
          "height": 454
        },
        "outputId": "ef726b79-7dfa-47ee-88e8-3ddeb09ea9ce"
      },
      "source": [
        "model = KNeighborsClassifier(n_neighbors=10)\n",
        "run_classification(model, X_train, X_test, y_train, y_test)"
      ],
      "execution_count": 217,
      "outputs": [
        {
          "output_type": "stream",
          "text": [
            "Accuracy Score:  0.795551348793185\n",
            "              precision    recall  f1-score   support\n",
            "\n",
            "           0       0.83      0.91      0.87      1562\n",
            "           1       0.65      0.47      0.55       551\n",
            "\n",
            "    accuracy                           0.80      2113\n",
            "   macro avg       0.74      0.69      0.71      2113\n",
            "weighted avg       0.78      0.80      0.78      2113\n",
            "\n"
          ],
          "name": "stdout"
        },
        {
          "output_type": "display_data",
          "data": {
            "image/png": "[encoded data removed]",
            "text/plain": [
              "<Figure size 432x288 with 1 Axes>"
            ]
          },
          "metadata": {
            "tags": []
          }
        }
      ]
    },
    {
      "cell_type": "markdown",
      "metadata": {
        "id": "AVRr1f9qEsEx",
        "colab_type": "text"
      },
      "source": [
        "## Using Support Vector Machine"
      ]
    },
    {
      "cell_type": "code",
      "metadata": {
        "id": "oHEMxYXp2-Id",
        "colab_type": "code",
        "colab": {
          "base_uri": "https://localhost:8080/",
          "height": 454
        },
        "outputId": "5cefddee-762c-40c8-d0e2-2ca1e99374f6"
      },
      "source": [
        "model = SVC(C=1000.0, class_weight='balanced', gamma=0.005, probability=True)\n",
        "run_classification(model, X_train, X_test, y_train, y_test)"
      ],
      "execution_count": 218,
      "outputs": [
        {
          "output_type": "stream",
          "text": [
            "Accuracy Score:  0.7486985328916232\n",
            "              precision    recall  f1-score   support\n",
            "\n",
            "           0       0.91      0.73      0.81      1562\n",
            "           1       0.51      0.80      0.62       551\n",
            "\n",
            "    accuracy                           0.75      2113\n",
            "   macro avg       0.71      0.76      0.72      2113\n",
            "weighted avg       0.81      0.75      0.76      2113\n",
            "\n"
          ],
          "name": "stdout"
        },
        {
          "output_type": "display_data",
          "data": {
            "image/png": "[encoded data removed]",
            "text/plain": [
              "<Figure size 432x288 with 1 Axes>"
            ]
          },
          "metadata": {
            "tags": []
          }
        }
      ]
    },
    {
      "cell_type": "markdown",
      "metadata": {
        "id": "5_vcUjfwGRdX",
        "colab_type": "text"
      },
      "source": [
        "# Conclusion"
      ]
    },
    {
      "cell_type": "markdown",
      "metadata": {
        "id": "ujC7sHv1K2qe",
        "colab_type": "text"
      },
      "source": [
        "Accuracy Scores:\n",
        "\n",
        "\n",
        "1.   Logistic Regression: **81%**\n",
        "2.   Decision Tree Classifier: **73%**\n",
        "3.   K-Nearest Neighbiours: **80%**\n",
        "4.   Support Vector Machine:**75%**\n",
        "\n"
      ]
    },
    {
      "cell_type": "markdown",
      "metadata": {
        "id": "gTtnVRlCLrKs",
        "colab_type": "text"
      },
      "source": [
        "* **Thus, using Logistic Regression Model we could predict if a customer would churn or not with an accuracy of 81%, which is quite satisfactory.**\n",
        "* **The accuracy has been improved by removing certain features which have less or no effect on the churning rate.**\n",
        "* **There is 82.6% correlation between Tenure and Total Charges and very little correlation between Tenure and Monthly Charges.**\n",
        "* **Customers are more likely to churn if they have no partners, no dependents,and no special services like Tech Support, Online Backup, Online Security, Device Protection**\n",
        "* **Customers with month-to-month contract are less likely to churn**"
      ]
    }
  ]
}